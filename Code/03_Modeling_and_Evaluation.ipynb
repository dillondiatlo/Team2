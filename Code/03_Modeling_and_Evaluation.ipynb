{
 "cells": [
  {
   "cell_type": "markdown",
   "id": "108deeec-34aa-401f-aee4-b9b656e026d1",
   "metadata": {},
   "source": [
    "# Modeling and Evaluation"
   ]
  },
  {
   "cell_type": "code",
   "execution_count": 7,
   "id": "a8c7f51e-8e8e-4827-8fb9-c49e303e6477",
   "metadata": {
    "tags": []
   },
   "outputs": [],
   "source": [
    "#Importing libraries\n",
    "\n",
    "import pandas as pd\n",
    "import matplotlib.pyplot as plt\n",
    "import numpy as np\n",
    "import seaborn as sns\n",
    "\n",
    "from sklearn.linear_model import LogisticRegression\n",
    "from sklearn.cluster import KMeans\n",
    "from sklearn.metrics import silhouette_score\n",
    "from sklearn.preprocessing import StandardScaler\n",
    "from sklearn.model_selection import train_test_split, GridSearchCV, RandomizedSearchCV\n",
    "from sklearn.tree import DecisionTreeClassifier\n",
    "from sklearn.ensemble import RandomForestClassifier, ExtraTreesClassifier, AdaBoostClassifier, GradientBoostingClassifier, BaggingClassifier, VotingClassifier\n",
    "from sklearn.pipeline import Pipeline\n",
    "from sklearn import metrics\n",
    "\n",
    "from tensorflow.keras.models import Sequential\n",
    "from tensorflow.keras.layers import Dense, Dropout"
   ]
  },
  {
   "cell_type": "code",
   "execution_count": 8,
   "id": "4cc541b0-2ea3-407d-bf4e-0bbdc154d325",
   "metadata": {
    "tags": []
   },
   "outputs": [
    {
     "data": {
      "text/html": [
       "<div>\n",
       "<style scoped>\n",
       "    .dataframe tbody tr th:only-of-type {\n",
       "        vertical-align: middle;\n",
       "    }\n",
       "\n",
       "    .dataframe tbody tr th {\n",
       "        vertical-align: top;\n",
       "    }\n",
       "\n",
       "    .dataframe thead th {\n",
       "        text-align: right;\n",
       "    }\n",
       "</style>\n",
       "<table border=\"1\" class=\"dataframe\">\n",
       "  <thead>\n",
       "    <tr style=\"text-align: right;\">\n",
       "      <th></th>\n",
       "      <th>popularity</th>\n",
       "      <th>acousticness</th>\n",
       "      <th>danceability</th>\n",
       "      <th>energy</th>\n",
       "      <th>instrumentalness</th>\n",
       "      <th>liveness</th>\n",
       "      <th>loudness</th>\n",
       "      <th>mode</th>\n",
       "      <th>speechiness</th>\n",
       "      <th>tempo</th>\n",
       "      <th>...</th>\n",
       "      <th>key_B</th>\n",
       "      <th>key_C</th>\n",
       "      <th>key_C#</th>\n",
       "      <th>key_D</th>\n",
       "      <th>key_D#</th>\n",
       "      <th>key_E</th>\n",
       "      <th>key_F</th>\n",
       "      <th>key_F#</th>\n",
       "      <th>key_G</th>\n",
       "      <th>key_G#</th>\n",
       "    </tr>\n",
       "  </thead>\n",
       "  <tbody>\n",
       "    <tr>\n",
       "      <th>0</th>\n",
       "      <td>13</td>\n",
       "      <td>0.234</td>\n",
       "      <td>0.617</td>\n",
       "      <td>0.862</td>\n",
       "      <td>0.976000</td>\n",
       "      <td>0.1410</td>\n",
       "      <td>-12.855</td>\n",
       "      <td>1</td>\n",
       "      <td>0.0514</td>\n",
       "      <td>129.578</td>\n",
       "      <td>...</td>\n",
       "      <td>0</td>\n",
       "      <td>0</td>\n",
       "      <td>0</td>\n",
       "      <td>0</td>\n",
       "      <td>0</td>\n",
       "      <td>0</td>\n",
       "      <td>0</td>\n",
       "      <td>0</td>\n",
       "      <td>1</td>\n",
       "      <td>0</td>\n",
       "    </tr>\n",
       "    <tr>\n",
       "      <th>1</th>\n",
       "      <td>5</td>\n",
       "      <td>0.249</td>\n",
       "      <td>0.518</td>\n",
       "      <td>0.805</td>\n",
       "      <td>0.000000</td>\n",
       "      <td>0.3330</td>\n",
       "      <td>-6.248</td>\n",
       "      <td>1</td>\n",
       "      <td>0.0407</td>\n",
       "      <td>79.124</td>\n",
       "      <td>...</td>\n",
       "      <td>0</td>\n",
       "      <td>0</td>\n",
       "      <td>0</td>\n",
       "      <td>0</td>\n",
       "      <td>0</td>\n",
       "      <td>0</td>\n",
       "      <td>1</td>\n",
       "      <td>0</td>\n",
       "      <td>0</td>\n",
       "      <td>0</td>\n",
       "    </tr>\n",
       "    <tr>\n",
       "      <th>2</th>\n",
       "      <td>30</td>\n",
       "      <td>0.366</td>\n",
       "      <td>0.631</td>\n",
       "      <td>0.513</td>\n",
       "      <td>0.000004</td>\n",
       "      <td>0.1090</td>\n",
       "      <td>-6.376</td>\n",
       "      <td>1</td>\n",
       "      <td>0.0293</td>\n",
       "      <td>120.365</td>\n",
       "      <td>...</td>\n",
       "      <td>0</td>\n",
       "      <td>0</td>\n",
       "      <td>0</td>\n",
       "      <td>1</td>\n",
       "      <td>0</td>\n",
       "      <td>0</td>\n",
       "      <td>0</td>\n",
       "      <td>0</td>\n",
       "      <td>0</td>\n",
       "      <td>0</td>\n",
       "    </tr>\n",
       "    <tr>\n",
       "      <th>3</th>\n",
       "      <td>39</td>\n",
       "      <td>0.815</td>\n",
       "      <td>0.768</td>\n",
       "      <td>0.137</td>\n",
       "      <td>0.922000</td>\n",
       "      <td>0.1130</td>\n",
       "      <td>-13.284</td>\n",
       "      <td>0</td>\n",
       "      <td>0.0747</td>\n",
       "      <td>76.430</td>\n",
       "      <td>...</td>\n",
       "      <td>0</td>\n",
       "      <td>0</td>\n",
       "      <td>1</td>\n",
       "      <td>0</td>\n",
       "      <td>0</td>\n",
       "      <td>0</td>\n",
       "      <td>0</td>\n",
       "      <td>0</td>\n",
       "      <td>0</td>\n",
       "      <td>0</td>\n",
       "    </tr>\n",
       "    <tr>\n",
       "      <th>4</th>\n",
       "      <td>70</td>\n",
       "      <td>0.131</td>\n",
       "      <td>0.748</td>\n",
       "      <td>0.627</td>\n",
       "      <td>0.000000</td>\n",
       "      <td>0.0852</td>\n",
       "      <td>-6.029</td>\n",
       "      <td>1</td>\n",
       "      <td>0.0644</td>\n",
       "      <td>120.963</td>\n",
       "      <td>...</td>\n",
       "      <td>0</td>\n",
       "      <td>0</td>\n",
       "      <td>0</td>\n",
       "      <td>0</td>\n",
       "      <td>0</td>\n",
       "      <td>0</td>\n",
       "      <td>0</td>\n",
       "      <td>0</td>\n",
       "      <td>1</td>\n",
       "      <td>0</td>\n",
       "    </tr>\n",
       "  </tbody>\n",
       "</table>\n",
       "<p>5 rows × 50 columns</p>\n",
       "</div>"
      ],
      "text/plain": [
       "   popularity  acousticness  danceability  energy  instrumentalness  liveness  \\\n",
       "0          13         0.234         0.617   0.862          0.976000    0.1410   \n",
       "1           5         0.249         0.518   0.805          0.000000    0.3330   \n",
       "2          30         0.366         0.631   0.513          0.000004    0.1090   \n",
       "3          39         0.815         0.768   0.137          0.922000    0.1130   \n",
       "4          70         0.131         0.748   0.627          0.000000    0.0852   \n",
       "\n",
       "   loudness  mode  speechiness    tempo  ...  key_B  key_C  key_C#  key_D  \\\n",
       "0   -12.855     1       0.0514  129.578  ...      0      0       0      0   \n",
       "1    -6.248     1       0.0407   79.124  ...      0      0       0      0   \n",
       "2    -6.376     1       0.0293  120.365  ...      0      0       0      1   \n",
       "3   -13.284     0       0.0747   76.430  ...      0      0       1      0   \n",
       "4    -6.029     1       0.0644  120.963  ...      0      0       0      0   \n",
       "\n",
       "   key_D#  key_E  key_F  key_F#  key_G  key_G#  \n",
       "0       0      0      0       0      1       0  \n",
       "1       0      0      1       0      0       0  \n",
       "2       0      0      0       0      0       0  \n",
       "3       0      0      0       0      0       0  \n",
       "4       0      0      0       0      1       0  \n",
       "\n",
       "[5 rows x 50 columns]"
      ]
     },
     "execution_count": 8,
     "metadata": {},
     "output_type": "execute_result"
    }
   ],
   "source": [
    "spotify = pd.read_csv('../Data/Cleaned Data/Cleaned_SpotifyFeatures.csv')\n",
    "spotify.head(5)"
   ]
  },
  {
   "cell_type": "markdown",
   "id": "dca1e084-5d5d-444c-a6c9-d25cf9447eff",
   "metadata": {},
   "source": [
    "# KMeans Clusters"
   ]
  },
  {
   "cell_type": "code",
   "execution_count": null,
   "id": "f89338fa-399e-4da3-a8de-986246eaaf3d",
   "metadata": {},
   "outputs": [
    {
     "name": "stderr",
     "output_type": "stream",
     "text": [
      "/Users/dillondiatlo/anaconda3/lib/python3.11/site-packages/sklearn/cluster/_kmeans.py:870: FutureWarning: The default value of `n_init` will change from 10 to 'auto' in 1.4. Set the value of `n_init` explicitly to suppress the warning\n",
      "  warnings.warn(\n"
     ]
    }
   ],
   "source": [
    "#Creating X\n",
    "X = spotify[['popularity', 'loudness', 'energy', 'danceability', 'time_signature', 'tempo', \n",
    "             'valence', 'acousticness', 'instrumentalness', 'liveness', 'mode', 'speechiness']]\n",
    "\n",
    "#Scaling X\n",
    "sc = StandardScaler()\n",
    "X_sc = sc.fit_transform(X)\n",
    "\n",
    "# Finding the best clusters/silhouette score in range 2-10\n",
    "row = []\n",
    "\n",
    "for k in range(2, 11):\n",
    "    km = KMeans(n_clusters=k, random_state=2024)\n",
    "    km.fit(X_sc)\n",
    "    \n",
    "    inert = km.inertia_\n",
    "    sil = silhouette_score(X_sc, km.labels_)\n",
    "    \n",
    "    rows.append((k, inert, sil))"
   ]
  },
  {
   "cell_type": "code",
   "execution_count": null,
   "id": "8af13e6c-2188-4e06-8bc5-38eff39fd2be",
   "metadata": {},
   "outputs": [],
   "source": [
    "#Looking at the k's, inertia and silhouette scores\n",
    "k_df = pd.DataFrame(rows, columns=['k', 'inertia', 'sil'])\n",
    "k_df.head()"
   ]
  },
  {
   "cell_type": "markdown",
   "id": "84130bff-ae0a-462f-8b1e-d2be17be33aa",
   "metadata": {},
   "source": []
  },
  {
   "cell_type": "markdown",
   "id": "1eb7772b-6bfa-4e57-823c-e081d3f91424",
   "metadata": {},
   "source": [
    "# 3 Classification"
   ]
  },
  {
   "cell_type": "code",
   "execution_count": null,
   "id": "da842624-1347-420e-8263-4ceae8f62877",
   "metadata": {
    "tags": []
   },
   "outputs": [],
   "source": [
    "# Creating 3 classifications for the popularity column\n",
    "spotify['popularity'] = np.where(spotify['popularity'] <= 33, 0, spotify['popularity']) \n",
    "spotify['popularity'] = np.where((spotify['popularity'] >= 34) & (spotify['popularity'] <= 66), 1, spotify['popularity']) \n",
    "spotify['popularity'] = np.where(spotify['popularity'] >= 67, 2, spotify['popularity']) \n",
    "\n",
    "spotify.head()"
   ]
  },
  {
   "cell_type": "code",
   "execution_count": null,
   "id": "b421bb14-06ca-4aa1-8741-4a33b6fe3215",
   "metadata": {},
   "outputs": [],
   "source": [
    "#Trying a DecisionTreeClassifier\n",
    "\n",
    "# Creating X and y\n",
    "X = spotify[['loudness', 'energy', 'danceability', 'time_signature', 'tempo', 'valence', 'acousticness', 'instrumentalness', 'liveness', 'mode', 'speechiness']]\n",
    "y = spotify['popularity']\n",
    "\n",
    "#TTS on X and y\n",
    "X_train, X_test, y_train, y_test = train_test_split(X, y, stratify=y, random_state=2024)\n",
    "\n",
    "#Instantiating decision tree model\n",
    "tree = DecisionTreeClassifier(max_depth=10, min_samples_split=5)\n",
    "\n",
    "#Fitting X_train and y_train\n",
    "tree.fit(X_train, y_train)\n",
    "\n",
    "#Getting the score\n",
    "tree.score(X_train, y_train), tree.score(X_test, y_test)"
   ]
  },
  {
   "cell_type": "code",
   "execution_count": null,
   "id": "87732f8b-9c5f-4d2a-b79d-1fec689d1b8b",
   "metadata": {},
   "outputs": [],
   "source": [
    "#Trying a RandomForest\n",
    "\n",
    "#Instantiating the rf\n",
    "rf = RandomForestClassifier(oob_score=True, max_features='sqrt')\n",
    "\n",
    "#Fitting X_train and y_Train\n",
    "rf.fit(X_train, y_train)\n",
    "\n",
    "#Getting the scores\n",
    "rf.score(X_train, y_train), rf.score(X_test, y_test), rf.oob_score_"
   ]
  },
  {
   "cell_type": "code",
   "execution_count": null,
   "id": "2f371826-e335-4a59-9610-39faf5505c00",
   "metadata": {},
   "outputs": [],
   "source": [
    "#Trying ExtraTreesClassifier\n",
    "\n",
    "#Intantiating the rf\n",
    "et = ExtraTreesClassifier(n_estimators=100, max_depth=35, min_samples_leaf=3)\n",
    "\n",
    "#Fitting the model to X_train and y_Train\n",
    "et.fit(X_train, y_train)\n",
    "\n",
    "#Getting the scores\n",
    "et.score(X_train, y_train), et.score(X_test, y_test)"
   ]
  },
  {
   "cell_type": "markdown",
   "id": "b98d7ba1-a715-4969-a880-e06b7af554ec",
   "metadata": {},
   "source": []
  },
  {
   "cell_type": "code",
   "execution_count": null,
   "id": "9eb42000-7d73-4f38-a572-148392b566d6",
   "metadata": {},
   "outputs": [],
   "source": [
    "#Trying DNN\n",
    "\n",
    "#Creating X and y\n",
    "X = spotify.drop('popularity', axis=1)\n",
    "y = spotify['popularity']\n",
    "\n",
    "#TTS on X and y\n",
    "X_train, X_test, y_train, y_test = train_test_split(X, y, random_state=123)\n",
    "\n",
    "#Scaling, fitting, and transforming the data\n",
    "sc = StandardScaler()\n",
    "X_train_sc = sc.fit_transform(X_train)\n",
    "X_test_sc = sc.transform(X_test)"
   ]
  },
  {
   "cell_type": "code",
   "execution_count": null,
   "id": "9aa16c97-a867-4d88-a6f8-8a8e52eeb92a",
   "metadata": {},
   "outputs": [],
   "source": [
    "#Checking the shape of X_train \n",
    "X_train.shape"
   ]
  },
  {
   "cell_type": "code",
   "execution_count": null,
   "id": "469d9623-e051-4bdb-a46e-dc32713bdf56",
   "metadata": {},
   "outputs": [],
   "source": [
    "#Creating dnn1\n",
    "col = X_train.shape[1]\n",
    "dnn1 = Sequential()\n",
    "dnn1.add(Dense(100, activation='relu', input_shape=(col,)))\n",
    "dnn1.add(Dense(50, activation='relu'))\n",
    "dnn1.add(Dense(5, activation='softmax'))\n",
    "\n",
    "#Compiling Model\n",
    "dnn1.compile(loss='crossentropy', optimizer='rmsprop', metrics=['acc'])\n",
    "\n",
    "#Fitting the model\n",
    "hist1 = dnn1.fit(\n",
    "    X_train_sc, y_train,\n",
    "    validation_data=(X_test_sc, y_test),\n",
    "    batch_size=32,\n",
    "    epochs=10\n",
    ")"
   ]
  },
  {
   "cell_type": "code",
   "execution_count": null,
   "id": "4f0f27b7-508d-4c65-aba2-99780e72bd9b",
   "metadata": {},
   "outputs": [],
   "source": [
    "#Trying DNN with different X's\n",
    "\n",
    "#Assigning New X and y\n",
    "X_dnn2 = spotify[['loudness', 'genre_Rap', 'genre_Rock', 'genre_Children\\'s Music','genre_Pop', 'energy', 'danceability', 'time_signature', 'tempo', 'valence', 'acousticness', 'instrumentalness', 'liveness', 'mode', 'speechiness']]\n",
    "y_dnn2 = spotify['popularity']\n",
    "\n",
    "#Train test splitting\n",
    "X_dnn2_train, X_dnn2_test, y_dnn2_train, y_dnn2_test = train_test_split(X_dnn2, y_dnn2, random_state=123)\n",
    "\n",
    "#Scaling the data\n",
    "sc = StandardScaler()\n",
    "X_dnn2_train_sc = sc.fit_transform(X_dnn2_train)\n",
    "X_dnn2_test_sc = sc.transform(X2_test)"
   ]
  },
  {
   "cell_type": "code",
   "execution_count": null,
   "id": "ab11ad53-0ba2-492e-ac07-efd9117873ed",
   "metadata": {},
   "outputs": [],
   "source": [
    "#Creating dnn2 with regularization technique \"Dropout\"\n",
    "\n",
    "col = X_dnn2_train.shape[1]\n",
    "dnn2 = Sequential()\n",
    "dnn2.add(Dense(100, activation='relu', input_shape=(col,)))\n",
    "dnn2.add(Dropout(0.5))\n",
    "dnn2.add(Dense(50, activation='relu'))\n",
    "dnn2.add(Dropout(0.5))\n",
    "dnn2.add(Dense(50, activation='relu'))\n",
    "dnn2.add(Dropout(0.5))\n",
    "dnn2.add(Dense(65, activation='relu'))\n",
    "dnn2.add(Dropout(0.5))\n",
    "dnn2.add(Dense(5, activation='softmax'))\n",
    "\n",
    "#Compiling dnn2\n",
    "dnn2.compile(loss='crossentropy', optimizer='adam', metrics=['acc'])\n",
    "\n",
    "#Fitting the model\n",
    "hist2 = dnn2.fit(\n",
    "    X_train_sc, y_train,\n",
    "    validation_data=(X_test_sc, y_test),\n",
    "    batch_size=32,\n",
    "    epochs=10\n",
    ")"
   ]
  },
  {
   "cell_type": "code",
   "execution_count": null,
   "id": "b793eb10-5da6-444d-9e69-e9da39ae377b",
   "metadata": {},
   "outputs": [],
   "source": [
    "#Plotting to see the loss\n",
    "\n",
    "train_loss = hist2.history['loss']\n",
    "test_loss = hist2.history['val_loss']\n",
    "\n",
    "plt.figure(figsize=(12, 8))\n",
    "plt.plot(train_loss, label='Training loss', color='black')\n",
    "plt.plot(test_loss, label='Testing loss', color='red')"
   ]
  },
  {
   "cell_type": "code",
   "execution_count": null,
   "id": "4ff775e8-ff0b-40ed-adda-63efe084bb30",
   "metadata": {},
   "outputs": [],
   "source": [
    "#Checking the baseline\n",
    "spotify['popularity'].value_counts(normalize=True).sort_index()"
   ]
  },
  {
   "cell_type": "code",
   "execution_count": null,
   "id": "b2f7c556-f4f5-4f80-9e11-f42d564f1e5b",
   "metadata": {},
   "outputs": [],
   "source": []
  },
  {
   "cell_type": "markdown",
   "id": "0ce70997-e640-44ab-bdb9-1acaf5b59a62",
   "metadata": {},
   "source": [
    "# 5 Classification"
   ]
  },
  {
   "cell_type": "code",
   "execution_count": null,
   "id": "3e2139fa-e479-43ab-b77b-1716ae8d7d1f",
   "metadata": {
    "tags": []
   },
   "outputs": [],
   "source": [
    "#The values are very unbalanced, let's read in the DF again and create 5 classifications instead of 3\n",
    "spotify2 = pd.read_csv('../Data/Cleaned Data/Cleaned_SpotifyFeatures.csv')\n",
    "\n",
    "\n",
    "spotify2['popularity'] = np.where(spotify2['popularity'] <= 20, 0, spotify2['popularity']) \n",
    "spotify2['popularity'] = np.where((spotify2['popularity'] >= 21) & (spotify2['popularity'] <= 40), 1, spotify2['popularity']) \n",
    "spotify2['popularity'] = np.where((spotify2['popularity'] >= 41) & (spotify2['popularity'] <= 60), 2, spotify2['popularity'])\n",
    "spotify2['popularity'] = np.where((spotify2['popularity'] >= 61) & (spotify2['popularity'] <= 80), 3, spotify2['popularity'])\n",
    "spotify2['popularity'] = np.where(spotify2['popularity'] >= 81, 4, spotify2['popularity']) \n",
    "\n",
    "\n",
    "spotify2.head()"
   ]
  },
  {
   "cell_type": "code",
   "execution_count": null,
   "id": "17de83d2-9477-42bc-9229-d43480992d50",
   "metadata": {},
   "outputs": [],
   "source": [
    "#Checking the balance\n",
    "spotify2['popularity'].value_counts(normalize=True)"
   ]
  },
  {
   "cell_type": "code",
   "execution_count": null,
   "id": "7f1efa28-c066-443a-a4a9-5a5508c9ec3c",
   "metadata": {},
   "outputs": [],
   "source": [
    "# Creating X2 and y2\n",
    "X2 = spotify2[['loudness', 'energy', 'danceability', 'time_signature', 'tempo', 'valence']]\n",
    "y2 = spotify2['popularity']"
   ]
  },
  {
   "cell_type": "code",
   "execution_count": null,
   "id": "88db5d31-9294-4799-bf45-07dde3330a90",
   "metadata": {},
   "outputs": [],
   "source": [
    "#Trying RandomForest again\n",
    "\n",
    "#Instantiating rf2\n",
    "rf2 = RandomForestClassifier(n_estimators=150, oob_score=True, max_features='sqrt')\n",
    "\n",
    "#Creating parameters\n",
    "p = X2.shape[1]\n",
    "params2 = {\n",
    "    'max_depth': np.append(np.arange(1, 21), None),\n",
    "    'max_features': np.arange(1, p2 + 1),\n",
    "    'min_samples_leaf': np.arange(1, 31)\n",
    "}\n",
    "\n",
    "#Using a RandomSearchCV\n",
    "rs = RandomizedSearchCV(rf3, params2, n_iter=50, cv=5, n_jobs=4)\n",
    "\n",
    "#Fitting the model\n",
    "rs.fit(X2_train, y2_train) \n",
    "\n",
    "#Getting the score\n",
    "rs.score(X2_test, y2_test)"
   ]
  },
  {
   "cell_type": "code",
   "execution_count": null,
   "id": "67048859-a918-415c-bebd-bf215ddeb859",
   "metadata": {},
   "outputs": [],
   "source": [
    "#Trying ExtraTrees again\n",
    "\n",
    "#Instantiating\n",
    "et2 = ExtraTreesClassifier(n_estimators=200)\n",
    "\n",
    "#Fitting the model\n",
    "et2.fit(X2_train, y2_train)\n",
    "\n",
    "#Getting the score\n",
    "et2.score(X2_train, y2_train), et2.score(X2_test, y2_test)"
   ]
  },
  {
   "cell_type": "code",
   "execution_count": null,
   "id": "d2af3af4-363c-44f2-a276-eb6e5b6a8ff9",
   "metadata": {},
   "outputs": [],
   "source": []
  },
  {
   "cell_type": "code",
   "execution_count": null,
   "id": "14e536b2-8ce9-4dd6-ad5e-983815a15b8c",
   "metadata": {},
   "outputs": [],
   "source": [
    "# Trying DNN again"
   ]
  },
  {
   "cell_type": "code",
   "execution_count": null,
   "id": "b2c5ba97-172c-4553-891c-7f8ff131d4aa",
   "metadata": {},
   "outputs": [],
   "source": [
    "#Assigning New X and y\n",
    "X3 = spotify2[['loudness', 'genre_Rap', 'genre_Rock', 'genre_Children\\'s Music','genre_Pop', 'energy', 'danceability', 'time_signature', 'tempo', 'valence', 'acousticness', 'instrumentalness', 'liveness', 'mode', 'speechiness']]\n",
    "y3 = spotify2['popularity']\n",
    "\n",
    "#Train test splitting\n",
    "X3_train, X3_test, y3_train, y3_test = train_test_split(X3, y3, random_state=123)\n",
    "\n",
    "#Scaling the data\n",
    "sc = StandardScaler()\n",
    "X3_train_sc = sc.fit_transform(X3_train)\n",
    "X3_test_sc = sc.transform(X3_test)\n",
    "\n",
    "#Creating dnn4\n",
    "col3 = X3_train.shape[1]\n",
    "dnn3 = Sequential()\n",
    "dnn3.add(Dense(100, activation='relu', input_shape=(col3,)))\n",
    "dnn3.add(Dropout(0.5))\n",
    "dnn3.add(Dense(50, activation='relu'))\n",
    "dnn3.add(Dropout(0.5))\n",
    "dnn3.add(Dense(50, activation='relu'))\n",
    "dnn3.add(Dropout(0.5))\n",
    "dnn3.add(Dense(65, activation='relu'))\n",
    "dnn3.add(Dropout(0.5))\n",
    "dnn3.add(Dense(5, activation='softmax'))\n",
    "\n",
    "#Compiling dnn2\n",
    "dnn3.compile(loss='crossentropy', optimizer='adam', metrics=['acc'])\n",
    "\n",
    "#Fitting the model\n",
    "hist5 = dnn3.fit(\n",
    "    X3_train_sc, y3_train,\n",
    "    validation_data=(X3_test_sc, y3_test),\n",
    "    batch_size=32,\n",
    "    epochs=10\n",
    ")"
   ]
  },
  {
   "cell_type": "code",
   "execution_count": null,
   "id": "14f9e094-8483-4298-b367-419e85cb85b5",
   "metadata": {},
   "outputs": [],
   "source": [
    "#Trying DNN once more with original DNN model\n",
    "\n",
    "#Creating X and y\n",
    "X = spotify2.drop('popularity', axis=1)\n",
    "y = spotify2['popularity']\n",
    "\n",
    "#TTS on X and y\n",
    "X_train, X_test, y_train, y_test = train_test_split(X, y, random_state=123)\n",
    "\n",
    "#Scaling, fitting, and transforming the data\n",
    "sc = StandardScaler()\n",
    "X_train_sc = sc.fit_transform(X_train)\n",
    "X_test_sc = sc.transform(X_test)"
   ]
  },
  {
   "cell_type": "code",
   "execution_count": null,
   "id": "776f9814-26cd-4f64-8e31-90dff757157b",
   "metadata": {
    "tags": []
   },
   "outputs": [],
   "source": [
    "#Creating dnn1\n",
    "col = X_train.shape[1]\n",
    "dnn1 = Sequential()\n",
    "dnn1.add(Dense(100, activation='relu', input_shape=(col,)))\n",
    "dnn1.add(Dense(50, activation='relu'))\n",
    "dnn1.add(Dense(5, activation='softmax'))\n",
    "\n",
    "#Compiling Model\n",
    "dnn1.compile(loss='crossentropy', optimizer='rmsprop', metrics=['acc'])\n",
    "\n",
    "#Fitting the model\n",
    "hist1 = dnn1.fit(\n",
    "    X_train_sc, y_train,\n",
    "    validation_data=(X_test_sc, y_test),\n",
    "    batch_size=32,\n",
    "    epochs=10\n",
    ")"
   ]
  },
  {
   "cell_type": "code",
   "execution_count": null,
   "id": "27f837ea-4d66-4f69-974f-10ffe243bd70",
   "metadata": {},
   "outputs": [],
   "source": []
  },
  {
   "cell_type": "code",
   "execution_count": null,
   "id": "f23765dd-3898-4ee3-bfeb-efcdb6add28a",
   "metadata": {},
   "outputs": [],
   "source": []
  }
 ],
 "metadata": {
  "kernelspec": {
   "display_name": "Python 3 (ipykernel)",
   "language": "python",
   "name": "python3"
  },
  "language_info": {
   "codemirror_mode": {
    "name": "ipython",
    "version": 3
   },
   "file_extension": ".py",
   "mimetype": "text/x-python",
   "name": "python",
   "nbconvert_exporter": "python",
   "pygments_lexer": "ipython3",
   "version": "3.11.5"
  }
 },
 "nbformat": 4,
 "nbformat_minor": 5
}
