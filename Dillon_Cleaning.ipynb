{
 "cells": [
  {
   "cell_type": "markdown",
   "id": "542771b8-df46-44a9-bcdd-91e8970c6198",
   "metadata": {},
   "source": [
    "# Cleaning"
   ]
  },
  {
   "cell_type": "code",
   "execution_count": 1,
   "id": "d9f82382-3803-463f-9bad-e7ae7f4a4b34",
   "metadata": {
    "tags": []
   },
   "outputs": [],
   "source": [
    "import geopandas as gpd\n",
    "import pandas as pd\n",
    "import numpy as np\n",
    "import matplotlib.pyplot as plt\n",
    "import seaborn as sns\n",
    "\n",
    "from shapely.geometry import Point, Polygon"
   ]
  },
  {
   "cell_type": "code",
   "execution_count": 4,
   "id": "1c416521-1246-4731-88ae-84d696566888",
   "metadata": {
    "tags": []
   },
   "outputs": [
    {
     "data": {
      "text/html": [
       "<div>\n",
       "<style scoped>\n",
       "    .dataframe tbody tr th:only-of-type {\n",
       "        vertical-align: middle;\n",
       "    }\n",
       "\n",
       "    .dataframe tbody tr th {\n",
       "        vertical-align: top;\n",
       "    }\n",
       "\n",
       "    .dataframe thead th {\n",
       "        text-align: right;\n",
       "    }\n",
       "</style>\n",
       "<table border=\"1\" class=\"dataframe\">\n",
       "  <thead>\n",
       "    <tr style=\"text-align: right;\">\n",
       "      <th></th>\n",
       "      <th>ARREST_KEY</th>\n",
       "      <th>ARREST_DATE</th>\n",
       "      <th>PD_CD</th>\n",
       "      <th>PD_DESC</th>\n",
       "      <th>KY_CD</th>\n",
       "      <th>OFNS_DESC</th>\n",
       "      <th>LAW_CODE</th>\n",
       "      <th>LAW_CAT_CD</th>\n",
       "      <th>ARREST_BORO</th>\n",
       "      <th>ARREST_PRECINCT</th>\n",
       "      <th>JURISDICTION_CODE</th>\n",
       "      <th>AGE_GROUP</th>\n",
       "      <th>PERP_SEX</th>\n",
       "      <th>PERP_RACE</th>\n",
       "      <th>X_COORD_CD</th>\n",
       "      <th>Y_COORD_CD</th>\n",
       "      <th>Latitude</th>\n",
       "      <th>Longitude</th>\n",
       "      <th>New Georeferenced Column</th>\n",
       "    </tr>\n",
       "  </thead>\n",
       "  <tbody>\n",
       "    <tr>\n",
       "      <th>0</th>\n",
       "      <td>261265483</td>\n",
       "      <td>01/03/2023</td>\n",
       "      <td>397.0</td>\n",
       "      <td>ROBBERY,OPEN AREA UNCLASSIFIED</td>\n",
       "      <td>105.0</td>\n",
       "      <td>ROBBERY</td>\n",
       "      <td>PL 1600500</td>\n",
       "      <td>F</td>\n",
       "      <td>B</td>\n",
       "      <td>49</td>\n",
       "      <td>0</td>\n",
       "      <td>18-24</td>\n",
       "      <td>M</td>\n",
       "      <td>BLACK</td>\n",
       "      <td>1027430</td>\n",
       "      <td>251104</td>\n",
       "      <td>40.855793</td>\n",
       "      <td>-73.843908</td>\n",
       "      <td>POINT (-73.843908 40.855793)</td>\n",
       "    </tr>\n",
       "    <tr>\n",
       "      <th>1</th>\n",
       "      <td>261271301</td>\n",
       "      <td>01/03/2023</td>\n",
       "      <td>105.0</td>\n",
       "      <td>STRANGULATION 1ST</td>\n",
       "      <td>106.0</td>\n",
       "      <td>FELONY ASSAULT</td>\n",
       "      <td>PL 1211200</td>\n",
       "      <td>F</td>\n",
       "      <td>S</td>\n",
       "      <td>120</td>\n",
       "      <td>0</td>\n",
       "      <td>25-44</td>\n",
       "      <td>M</td>\n",
       "      <td>WHITE</td>\n",
       "      <td>962808</td>\n",
       "      <td>174275</td>\n",
       "      <td>40.644996</td>\n",
       "      <td>-74.077263</td>\n",
       "      <td>POINT (-74.077263 40.644996)</td>\n",
       "    </tr>\n",
       "    <tr>\n",
       "      <th>2</th>\n",
       "      <td>261336449</td>\n",
       "      <td>01/04/2023</td>\n",
       "      <td>397.0</td>\n",
       "      <td>ROBBERY,OPEN AREA UNCLASSIFIED</td>\n",
       "      <td>105.0</td>\n",
       "      <td>ROBBERY</td>\n",
       "      <td>PL 1601001</td>\n",
       "      <td>F</td>\n",
       "      <td>K</td>\n",
       "      <td>61</td>\n",
       "      <td>0</td>\n",
       "      <td>&lt;18</td>\n",
       "      <td>M</td>\n",
       "      <td>BLACK</td>\n",
       "      <td>995118</td>\n",
       "      <td>155708</td>\n",
       "      <td>40.594054</td>\n",
       "      <td>-73.960866</td>\n",
       "      <td>POINT (-73.960866 40.594054)</td>\n",
       "    </tr>\n",
       "    <tr>\n",
       "      <th>3</th>\n",
       "      <td>261328047</td>\n",
       "      <td>01/04/2023</td>\n",
       "      <td>105.0</td>\n",
       "      <td>STRANGULATION 1ST</td>\n",
       "      <td>106.0</td>\n",
       "      <td>FELONY ASSAULT</td>\n",
       "      <td>PL 1211200</td>\n",
       "      <td>F</td>\n",
       "      <td>Q</td>\n",
       "      <td>114</td>\n",
       "      <td>0</td>\n",
       "      <td>18-24</td>\n",
       "      <td>M</td>\n",
       "      <td>BLACK</td>\n",
       "      <td>1007694</td>\n",
       "      <td>219656</td>\n",
       "      <td>40.769552</td>\n",
       "      <td>-73.915361</td>\n",
       "      <td>POINT (-73.915361 40.769552)</td>\n",
       "    </tr>\n",
       "    <tr>\n",
       "      <th>4</th>\n",
       "      <td>261417496</td>\n",
       "      <td>01/05/2023</td>\n",
       "      <td>244.0</td>\n",
       "      <td>BURGLARY,UNCLASSIFIED,UNKNOWN</td>\n",
       "      <td>107.0</td>\n",
       "      <td>BURGLARY</td>\n",
       "      <td>PL 1402000</td>\n",
       "      <td>F</td>\n",
       "      <td>B</td>\n",
       "      <td>44</td>\n",
       "      <td>0</td>\n",
       "      <td>25-44</td>\n",
       "      <td>F</td>\n",
       "      <td>BLACK</td>\n",
       "      <td>1007174</td>\n",
       "      <td>239542</td>\n",
       "      <td>40.824135</td>\n",
       "      <td>-73.917170</td>\n",
       "      <td>POINT (-73.91717 40.824135)</td>\n",
       "    </tr>\n",
       "  </tbody>\n",
       "</table>\n",
       "</div>"
      ],
      "text/plain": [
       "   ARREST_KEY ARREST_DATE  PD_CD                         PD_DESC  KY_CD  \\\n",
       "0   261265483  01/03/2023  397.0  ROBBERY,OPEN AREA UNCLASSIFIED  105.0   \n",
       "1   261271301  01/03/2023  105.0               STRANGULATION 1ST  106.0   \n",
       "2   261336449  01/04/2023  397.0  ROBBERY,OPEN AREA UNCLASSIFIED  105.0   \n",
       "3   261328047  01/04/2023  105.0               STRANGULATION 1ST  106.0   \n",
       "4   261417496  01/05/2023  244.0   BURGLARY,UNCLASSIFIED,UNKNOWN  107.0   \n",
       "\n",
       "        OFNS_DESC    LAW_CODE LAW_CAT_CD ARREST_BORO  ARREST_PRECINCT  \\\n",
       "0         ROBBERY  PL 1600500          F           B               49   \n",
       "1  FELONY ASSAULT  PL 1211200          F           S              120   \n",
       "2         ROBBERY  PL 1601001          F           K               61   \n",
       "3  FELONY ASSAULT  PL 1211200          F           Q              114   \n",
       "4        BURGLARY  PL 1402000          F           B               44   \n",
       "\n",
       "   JURISDICTION_CODE AGE_GROUP PERP_SEX PERP_RACE  X_COORD_CD  Y_COORD_CD  \\\n",
       "0                  0     18-24        M     BLACK     1027430      251104   \n",
       "1                  0     25-44        M     WHITE      962808      174275   \n",
       "2                  0       <18        M     BLACK      995118      155708   \n",
       "3                  0     18-24        M     BLACK     1007694      219656   \n",
       "4                  0     25-44        F     BLACK     1007174      239542   \n",
       "\n",
       "    Latitude  Longitude      New Georeferenced Column  \n",
       "0  40.855793 -73.843908  POINT (-73.843908 40.855793)  \n",
       "1  40.644996 -74.077263  POINT (-74.077263 40.644996)  \n",
       "2  40.594054 -73.960866  POINT (-73.960866 40.594054)  \n",
       "3  40.769552 -73.915361  POINT (-73.915361 40.769552)  \n",
       "4  40.824135 -73.917170   POINT (-73.91717 40.824135)  "
      ]
     },
     "execution_count": 4,
     "metadata": {},
     "output_type": "execute_result"
    }
   ],
   "source": [
    "df = pd.read_csv('./Data/NYPD_Arrest_Data__Year_to_Date__20240308.csv')\n",
    "df.head()"
   ]
  },
  {
   "cell_type": "code",
   "execution_count": 5,
   "id": "68e1226a-3b59-4bb6-ac91-20181cb1940b",
   "metadata": {
    "tags": []
   },
   "outputs": [
    {
     "data": {
      "text/plain": [
       "OFNS_DESC\n",
       "ASSAULT 3 & RELATED OFFENSES      33839\n",
       "PETIT LARCENY                     23888\n",
       "FELONY ASSAULT                    21121\n",
       "DANGEROUS DRUGS                   15701\n",
       "MISCELLANEOUS PENAL LAW           14862\n",
       "                                  ...  \n",
       "FELONY SEX CRIMES                     3\n",
       "HOMICIDE-NEGLIGENT-VEHICLE            3\n",
       "DISRUPTION OF A RELIGIOUS SERV        2\n",
       "ADMINISTRATIVE CODES                  2\n",
       "UNLAWFUL POSS. WEAP. ON SCHOOL        1\n",
       "Name: count, Length: 64, dtype: int64"
      ]
     },
     "execution_count": 5,
     "metadata": {},
     "output_type": "execute_result"
    }
   ],
   "source": [
    "df['OFNS_DESC'].value_counts()"
   ]
  },
  {
   "cell_type": "code",
   "execution_count": 8,
   "id": "9861610e-c09f-4732-b901-91a4b836bc9e",
   "metadata": {
    "tags": []
   },
   "outputs": [
    {
     "data": {
      "text/plain": [
       "64"
      ]
     },
     "execution_count": 8,
     "metadata": {},
     "output_type": "execute_result"
    }
   ],
   "source": [
    "df['OFNS_DESC'].nunique()"
   ]
  },
  {
   "cell_type": "code",
   "execution_count": 9,
   "id": "b32ef435-7711-432a-b2ae-bc9f6df2ae5c",
   "metadata": {
    "tags": []
   },
   "outputs": [
    {
     "data": {
      "text/plain": [
       "248"
      ]
     },
     "execution_count": 9,
     "metadata": {},
     "output_type": "execute_result"
    }
   ],
   "source": [
    "df['PD_DESC'].nunique()"
   ]
  },
  {
   "cell_type": "code",
   "execution_count": null,
   "id": "c6547d24-b0ca-46d6-8ffd-cf46cb5af782",
   "metadata": {},
   "outputs": [],
   "source": []
  }
 ],
 "metadata": {
  "kernelspec": {
   "display_name": "Python 3 (ipykernel)",
   "language": "python",
   "name": "python3"
  },
  "language_info": {
   "codemirror_mode": {
    "name": "ipython",
    "version": 3
   },
   "file_extension": ".py",
   "mimetype": "text/x-python",
   "name": "python",
   "nbconvert_exporter": "python",
   "pygments_lexer": "ipython3",
   "version": "3.11.5"
  }
 },
 "nbformat": 4,
 "nbformat_minor": 5
}
