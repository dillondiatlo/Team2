{
 "cells": [
  {
   "cell_type": "code",
   "execution_count": 1,
   "id": "d8c45bb2-33ac-413e-90e2-ea55676dea2d",
   "metadata": {
    "tags": []
   },
   "outputs": [],
   "source": [
    "import pandas as pd\n",
    "import numpy as np\n",
    "import matplotlib.pyplot as plt"
   ]
  },
  {
   "cell_type": "code",
   "execution_count": 2,
   "id": "e0c70993-5b95-4dd1-ad17-e80ed92973c0",
   "metadata": {
    "tags": []
   },
   "outputs": [],
   "source": [
    "depth = pd.read_csv('./Data/Jasechko_et_al_2024_GroundwaterLevelData/AnnualDepthToGroundwater.csv')\n",
    "elev = pd.read_csv('./Data/Jasechko_et_al_2024_GroundwaterLevelData/AnnualGroundwaterElevation.csv')"
   ]
  },
  {
   "cell_type": "code",
   "execution_count": null,
   "id": "e2895213-7458-4fd7-965f-e8ef3fd1130b",
   "metadata": {},
   "outputs": [],
   "source": [
    "depth.head()"
   ]
  }
 ],
 "metadata": {
  "kernelspec": {
   "display_name": "Python 3 (ipykernel)",
   "language": "python",
   "name": "python3"
  },
  "language_info": {
   "codemirror_mode": {
    "name": "ipython",
    "version": 3
   },
   "file_extension": ".py",
   "mimetype": "text/x-python",
   "name": "python",
   "nbconvert_exporter": "python",
   "pygments_lexer": "ipython3",
   "version": "3.11.5"
  }
 },
 "nbformat": 4,
 "nbformat_minor": 5
}
