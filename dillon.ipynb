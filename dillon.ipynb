{
 "cells": [
  {
   "cell_type": "code",
   "execution_count": 1,
   "id": "d8c45bb2-33ac-413e-90e2-ea55676dea2d",
   "metadata": {
    "tags": []
   },
   "outputs": [],
   "source": [
    "import pandas as pd\n",
    "import numpy as np\n",
    "import matplotlib.pyplot as plt"
   ]
  },
  {
   "cell_type": "code",
   "execution_count": 2,
   "id": "e0c70993-5b95-4dd1-ad17-e80ed92973c0",
   "metadata": {
    "tags": []
   },
   "outputs": [],
   "source": [
    "depth = pd.read_csv('./Data/Jasechko_et_al_2024_GroundwaterLevelData/AnnualDepthToGroundwater.csv')\n",
    "elev = pd.read_csv('./Data/Jasechko_et_al_2024_GroundwaterLevelData/AnnualGroundwaterElevation.csv')"
   ]
  },
  {
   "cell_type": "code",
   "execution_count": 19,
   "id": "e2895213-7458-4fd7-965f-e8ef3fd1130b",
   "metadata": {
    "tags": []
   },
   "outputs": [
    {
     "data": {
      "text/plain": [
       "(      StnID        Lat       Lon  IntegerYear  DepthToWater_m\n",
       " 0  30000000 -12.741100 -60.13250         2011          22.250\n",
       " 1  30000001  -0.620556 -47.35861         2015          33.770\n",
       " 2  30000001  -0.620556 -47.35861         2016          32.285\n",
       " 3  30000001  -0.620556 -47.35861         2017          31.780\n",
       " 4  30000001  -0.620556 -47.35861         2018          30.020,\n",
       "        StnID      Lat       Lon  IntegerYear  GroundwaterElevation_masl\n",
       " 0  150000002  50.2672  11.23317         1993                     312.16\n",
       " 1  150000002  50.2672  11.23317         1994                     312.67\n",
       " 2  150000002  50.2672  11.23317         1995                     313.00\n",
       " 3  150000002  50.2672  11.23317         1996                     312.66\n",
       " 4  150000002  50.2672  11.23317         1997                     312.68)"
      ]
     },
     "execution_count": 19,
     "metadata": {},
     "output_type": "execute_result"
    }
   ],
   "source": [
    "depth.head(), elev.head()"
   ]
  },
  {
   "cell_type": "code",
   "execution_count": 22,
   "id": "759517c1-dad4-4739-809d-b708b6d4e813",
   "metadata": {
    "tags": []
   },
   "outputs": [
    {
     "data": {
      "text/plain": [
       "(901543, 16684)"
      ]
     },
     "execution_count": 22,
     "metadata": {},
     "output_type": "execute_result"
    }
   ],
   "source": [
    "depth['StnID'].nunique(), elev['StnID'].nunique()"
   ]
  },
  {
   "cell_type": "code",
   "execution_count": 24,
   "id": "c1fd0dd6-85c3-43d4-a1f8-9fc02a903acc",
   "metadata": {
    "tags": []
   },
   "outputs": [
    {
     "data": {
      "text/plain": [
       "(StnID\n",
       " 1000289129    110\n",
       " 330005617     108\n",
       " 330005613     105\n",
       " 330005388     101\n",
       " 1000671479    100\n",
       "              ... \n",
       " 1000322669      1\n",
       " 1000322670      1\n",
       " 1000322673      1\n",
       " 1000322674      1\n",
       " 1000445182      1\n",
       " Name: count, Length: 901543, dtype: int64,\n",
       " StnID\n",
       " 330005617     108\n",
       " 330005613     105\n",
       " 330005388     101\n",
       " 330005395      96\n",
       " 330005482      73\n",
       "              ... \n",
       " 1030017621      1\n",
       " 1030017637      1\n",
       " 1030017795      1\n",
       " 1030017923      1\n",
       " 1040135698      1\n",
       " Name: count, Length: 16684, dtype: int64)"
      ]
     },
     "execution_count": 24,
     "metadata": {},
     "output_type": "execute_result"
    }
   ],
   "source": [
    "depth['StnID'].value_counts(), elev['StnID'].value_counts()"
   ]
  },
  {
   "cell_type": "code",
   "execution_count": 6,
   "id": "efa6ab45-508f-44dd-bd36-51a08b9441de",
   "metadata": {
    "tags": []
   },
   "outputs": [
    {
     "data": {
      "text/html": [
       "<div>\n",
       "<style scoped>\n",
       "    .dataframe tbody tr th:only-of-type {\n",
       "        vertical-align: middle;\n",
       "    }\n",
       "\n",
       "    .dataframe tbody tr th {\n",
       "        vertical-align: top;\n",
       "    }\n",
       "\n",
       "    .dataframe thead th {\n",
       "        text-align: right;\n",
       "    }\n",
       "</style>\n",
       "<table border=\"1\" class=\"dataframe\">\n",
       "  <thead>\n",
       "    <tr style=\"text-align: right;\">\n",
       "      <th></th>\n",
       "      <th>StnID</th>\n",
       "      <th>Lat</th>\n",
       "      <th>Lon</th>\n",
       "      <th>IntegerYear</th>\n",
       "      <th>GroundwaterElevation_masl</th>\n",
       "    </tr>\n",
       "  </thead>\n",
       "  <tbody>\n",
       "    <tr>\n",
       "      <th>count</th>\n",
       "      <td>1.908790e+05</td>\n",
       "      <td>190879.000000</td>\n",
       "      <td>190879.000000</td>\n",
       "      <td>190879.000000</td>\n",
       "      <td>190879.000000</td>\n",
       "    </tr>\n",
       "    <tr>\n",
       "      <th>mean</th>\n",
       "      <td>3.684465e+08</td>\n",
       "      <td>48.327363</td>\n",
       "      <td>-15.194287</td>\n",
       "      <td>1999.535585</td>\n",
       "      <td>160.644095</td>\n",
       "    </tr>\n",
       "    <tr>\n",
       "      <th>std</th>\n",
       "      <td>2.676845e+08</td>\n",
       "      <td>9.160447</td>\n",
       "      <td>46.963516</td>\n",
       "      <td>15.436590</td>\n",
       "      <td>165.028564</td>\n",
       "    </tr>\n",
       "    <tr>\n",
       "      <th>min</th>\n",
       "      <td>4.000056e+07</td>\n",
       "      <td>-21.344400</td>\n",
       "      <td>-124.261200</td>\n",
       "      <td>1900.000000</td>\n",
       "      <td>-557.230000</td>\n",
       "    </tr>\n",
       "    <tr>\n",
       "      <th>25%</th>\n",
       "      <td>2.400004e+08</td>\n",
       "      <td>45.217400</td>\n",
       "      <td>-1.090898</td>\n",
       "      <td>1989.000000</td>\n",
       "      <td>27.850000</td>\n",
       "    </tr>\n",
       "    <tr>\n",
       "      <th>50%</th>\n",
       "      <td>3.300023e+08</td>\n",
       "      <td>49.139500</td>\n",
       "      <td>3.064875</td>\n",
       "      <td>2003.000000</td>\n",
       "      <td>121.235000</td>\n",
       "    </tr>\n",
       "    <tr>\n",
       "      <th>75%</th>\n",
       "      <td>3.300054e+08</td>\n",
       "      <td>50.457900</td>\n",
       "      <td>11.294600</td>\n",
       "      <td>2012.000000</td>\n",
       "      <td>239.837500</td>\n",
       "    </tr>\n",
       "    <tr>\n",
       "      <th>max</th>\n",
       "      <td>1.040136e+09</td>\n",
       "      <td>68.355400</td>\n",
       "      <td>119.416700</td>\n",
       "      <td>2022.000000</td>\n",
       "      <td>2629.471800</td>\n",
       "    </tr>\n",
       "  </tbody>\n",
       "</table>\n",
       "</div>"
      ],
      "text/plain": [
       "              StnID            Lat            Lon    IntegerYear  \\\n",
       "count  1.908790e+05  190879.000000  190879.000000  190879.000000   \n",
       "mean   3.684465e+08      48.327363     -15.194287    1999.535585   \n",
       "std    2.676845e+08       9.160447      46.963516      15.436590   \n",
       "min    4.000056e+07     -21.344400    -124.261200    1900.000000   \n",
       "25%    2.400004e+08      45.217400      -1.090898    1989.000000   \n",
       "50%    3.300023e+08      49.139500       3.064875    2003.000000   \n",
       "75%    3.300054e+08      50.457900      11.294600    2012.000000   \n",
       "max    1.040136e+09      68.355400     119.416700    2022.000000   \n",
       "\n",
       "       GroundwaterElevation_masl  \n",
       "count              190879.000000  \n",
       "mean                  160.644095  \n",
       "std                   165.028564  \n",
       "min                  -557.230000  \n",
       "25%                    27.850000  \n",
       "50%                   121.235000  \n",
       "75%                   239.837500  \n",
       "max                  2629.471800  "
      ]
     },
     "execution_count": 6,
     "metadata": {},
     "output_type": "execute_result"
    }
   ],
   "source": [
    "elev.describe()"
   ]
  },
  {
   "cell_type": "code",
   "execution_count": 11,
   "id": "7c23cc6f-fb83-43d8-93ea-03feb32fc406",
   "metadata": {
    "tags": []
   },
   "outputs": [
    {
     "data": {
      "text/plain": [
       "(4170802, 5)"
      ]
     },
     "execution_count": 11,
     "metadata": {},
     "output_type": "execute_result"
    }
   ],
   "source": [
    "depth.shape"
   ]
  },
  {
   "cell_type": "code",
   "execution_count": 13,
   "id": "058ffae1-5d3f-4899-9f7f-d77d48e501e6",
   "metadata": {
    "tags": []
   },
   "outputs": [
    {
     "data": {
      "text/plain": [
       "StnID\n",
       "1000289129    110\n",
       "330005617     108\n",
       "330005613     105\n",
       "330005388     101\n",
       "1000671479    100\n",
       "             ... \n",
       "1000322669      1\n",
       "1000322670      1\n",
       "1000322673      1\n",
       "1000322674      1\n",
       "1000445182      1\n",
       "Name: count, Length: 901543, dtype: int64"
      ]
     },
     "execution_count": 13,
     "metadata": {},
     "output_type": "execute_result"
    }
   ],
   "source": [
    "depth['StnID'].value_counts()"
   ]
  },
  {
   "cell_type": "code",
   "execution_count": 14,
   "id": "001364d6-73fb-488a-b9ea-833592e7d186",
   "metadata": {
    "tags": []
   },
   "outputs": [
    {
     "data": {
      "text/plain": [
       "StnID\n",
       "330005617     108\n",
       "330005613     105\n",
       "330005388     101\n",
       "330005395      96\n",
       "330005482      73\n",
       "             ... \n",
       "1030017621      1\n",
       "1030017637      1\n",
       "1030017795      1\n",
       "1030017923      1\n",
       "1040135698      1\n",
       "Name: count, Length: 16684, dtype: int64"
      ]
     },
     "execution_count": 14,
     "metadata": {},
     "output_type": "execute_result"
    }
   ],
   "source": [
    "elev['StnID'].value_counts()"
   ]
  },
  {
   "cell_type": "code",
   "execution_count": 10,
   "id": "9a624447-9778-49db-b080-447e1435c707",
   "metadata": {
    "tags": []
   },
   "outputs": [
    {
     "data": {
      "text/plain": [
       "(190879, 5)"
      ]
     },
     "execution_count": 10,
     "metadata": {},
     "output_type": "execute_result"
    }
   ],
   "source": [
    "elev.shape"
   ]
  },
  {
   "cell_type": "code",
   "execution_count": 15,
   "id": "f6e0f408-c717-4a8d-8696-89194fcde837",
   "metadata": {
    "tags": []
   },
   "outputs": [],
   "source": [
    "#drop all stations that didn't get a depth\n",
    "merge_depth = pd.merge(depth, elev, how='left', on='StnID')"
   ]
  },
  {
   "cell_type": "code",
   "execution_count": 17,
   "id": "4cd08cfb-2b7b-4a98-947e-cd59de626f1d",
   "metadata": {
    "tags": []
   },
   "outputs": [],
   "source": [
    "#drop all stations that didn't get elevation\n",
    "merge_elev = pd.merge(elev, depth, how='left', on='StnID')"
   ]
  },
  {
   "cell_type": "code",
   "execution_count": 18,
   "id": "b35de22a-b852-491e-8271-4e6670390590",
   "metadata": {
    "tags": []
   },
   "outputs": [
    {
     "name": "stdout",
     "output_type": "stream",
     "text": [
      "(4170802, 5)\n",
      "(190879, 5)\n",
      "(7610983, 9)\n",
      "(3664131, 9)\n"
     ]
    }
   ],
   "source": [
    "print(depth.shape)\n",
    "print(elev.shape)\n",
    "print(merge_depth.shape)\n",
    "print(merge_elev.shape)"
   ]
  },
  {
   "cell_type": "markdown",
   "id": "8296a2c0-fcd7-4ec1-8275-eb2985e352cc",
   "metadata": {},
   "source": [
    "**An \"inner\" join will drop all rows that don't have a match on the other side**\n",
    "- in this case, we'd be dropping all ratings that don't have a movieId\n",
    "- it's possible a rating on th eleft didn't get a title by accident and we don't wnat to drop that\n",
    "- It will also drop all movies that were never rated\n",
    "- this will shirnk your data set\n",
    "\n",
    "\n",
    "**A \"left\" join will drop all movies that didn't get a rating**\n",
    "- this is ok becasue we're looking at ratings today\n",
    "- We are doing this join because we want to keep all the ratings no matter what\n",
    "\n",
    "\n",
    "**An \"outer\" join is we're keeping everything no matter what**\n",
    "- this would keep every rating regardless if it has a movie attached\n",
    "- we would also be keeping every movie regardless if we had a rating for it, which since we're looking at ratings, there is no point to *Outer joins will blow up your dataset"
   ]
  },
  {
   "cell_type": "code",
   "execution_count": 31,
   "id": "cc6ded6a-7313-463d-a4fe-dcf1b3959abc",
   "metadata": {
    "tags": []
   },
   "outputs": [
    {
     "data": {
      "text/html": [
       "<div>\n",
       "<style scoped>\n",
       "    .dataframe tbody tr th:only-of-type {\n",
       "        vertical-align: middle;\n",
       "    }\n",
       "\n",
       "    .dataframe tbody tr th {\n",
       "        vertical-align: top;\n",
       "    }\n",
       "\n",
       "    .dataframe thead th {\n",
       "        text-align: right;\n",
       "    }\n",
       "</style>\n",
       "<table border=\"1\" class=\"dataframe\">\n",
       "  <thead>\n",
       "    <tr style=\"text-align: right;\">\n",
       "      <th></th>\n",
       "      <th>StnID</th>\n",
       "      <th>Lat_x</th>\n",
       "      <th>Lon_x</th>\n",
       "      <th>IntegerYear_x</th>\n",
       "      <th>DepthToWater_m</th>\n",
       "      <th>Lat_y</th>\n",
       "      <th>Lon_y</th>\n",
       "      <th>IntegerYear_y</th>\n",
       "      <th>GroundwaterElevation_masl</th>\n",
       "    </tr>\n",
       "  </thead>\n",
       "  <tbody>\n",
       "    <tr>\n",
       "      <th>5069947</th>\n",
       "      <td>1000444951</td>\n",
       "      <td>34.0999</td>\n",
       "      <td>-117.330200</td>\n",
       "      <td>2006</td>\n",
       "      <td>63.63767</td>\n",
       "      <td>NaN</td>\n",
       "      <td>NaN</td>\n",
       "      <td>NaN</td>\n",
       "      <td>NaN</td>\n",
       "    </tr>\n",
       "    <tr>\n",
       "      <th>2058909</th>\n",
       "      <td>330003344</td>\n",
       "      <td>47.8995</td>\n",
       "      <td>1.573554</td>\n",
       "      <td>2000</td>\n",
       "      <td>15.09000</td>\n",
       "      <td>47.8995</td>\n",
       "      <td>1.573554</td>\n",
       "      <td>2009.0</td>\n",
       "      <td>112.640</td>\n",
       "    </tr>\n",
       "    <tr>\n",
       "      <th>3683341</th>\n",
       "      <td>1000010952</td>\n",
       "      <td>40.9682</td>\n",
       "      <td>-72.676360</td>\n",
       "      <td>2009</td>\n",
       "      <td>24.03958</td>\n",
       "      <td>NaN</td>\n",
       "      <td>NaN</td>\n",
       "      <td>NaN</td>\n",
       "      <td>NaN</td>\n",
       "    </tr>\n",
       "    <tr>\n",
       "      <th>4776706</th>\n",
       "      <td>1000380924</td>\n",
       "      <td>32.6246</td>\n",
       "      <td>-89.140620</td>\n",
       "      <td>1967</td>\n",
       "      <td>9.14400</td>\n",
       "      <td>NaN</td>\n",
       "      <td>NaN</td>\n",
       "      <td>NaN</td>\n",
       "      <td>NaN</td>\n",
       "    </tr>\n",
       "    <tr>\n",
       "      <th>1524772</th>\n",
       "      <td>330001761</td>\n",
       "      <td>45.0232</td>\n",
       "      <td>-0.590917</td>\n",
       "      <td>2004</td>\n",
       "      <td>1.16000</td>\n",
       "      <td>45.0232</td>\n",
       "      <td>-0.590917</td>\n",
       "      <td>2000.0</td>\n",
       "      <td>2.910</td>\n",
       "    </tr>\n",
       "    <tr>\n",
       "      <th>2435192</th>\n",
       "      <td>330003871</td>\n",
       "      <td>48.4552</td>\n",
       "      <td>1.897412</td>\n",
       "      <td>1991</td>\n",
       "      <td>22.94000</td>\n",
       "      <td>48.4552</td>\n",
       "      <td>1.897412</td>\n",
       "      <td>1979.0</td>\n",
       "      <td>132.800</td>\n",
       "    </tr>\n",
       "    <tr>\n",
       "      <th>5078944</th>\n",
       "      <td>1000446667</td>\n",
       "      <td>34.1447</td>\n",
       "      <td>-117.266200</td>\n",
       "      <td>1943</td>\n",
       "      <td>29.47416</td>\n",
       "      <td>NaN</td>\n",
       "      <td>NaN</td>\n",
       "      <td>NaN</td>\n",
       "      <td>NaN</td>\n",
       "    </tr>\n",
       "    <tr>\n",
       "      <th>6013775</th>\n",
       "      <td>1000661143</td>\n",
       "      <td>40.1450</td>\n",
       "      <td>-100.418500</td>\n",
       "      <td>1978</td>\n",
       "      <td>47.24400</td>\n",
       "      <td>NaN</td>\n",
       "      <td>NaN</td>\n",
       "      <td>NaN</td>\n",
       "      <td>NaN</td>\n",
       "    </tr>\n",
       "    <tr>\n",
       "      <th>1789118</th>\n",
       "      <td>330002648</td>\n",
       "      <td>46.9261</td>\n",
       "      <td>2.217846</td>\n",
       "      <td>2003</td>\n",
       "      <td>22.76000</td>\n",
       "      <td>46.9261</td>\n",
       "      <td>2.217846</td>\n",
       "      <td>2008.0</td>\n",
       "      <td>143.165</td>\n",
       "    </tr>\n",
       "    <tr>\n",
       "      <th>4670831</th>\n",
       "      <td>1000354590</td>\n",
       "      <td>32.0256</td>\n",
       "      <td>-110.960900</td>\n",
       "      <td>1969</td>\n",
       "      <td>28.54452</td>\n",
       "      <td>NaN</td>\n",
       "      <td>NaN</td>\n",
       "      <td>NaN</td>\n",
       "      <td>NaN</td>\n",
       "    </tr>\n",
       "  </tbody>\n",
       "</table>\n",
       "</div>"
      ],
      "text/plain": [
       "              StnID    Lat_x       Lon_x  IntegerYear_x  DepthToWater_m  \\\n",
       "5069947  1000444951  34.0999 -117.330200           2006        63.63767   \n",
       "2058909   330003344  47.8995    1.573554           2000        15.09000   \n",
       "3683341  1000010952  40.9682  -72.676360           2009        24.03958   \n",
       "4776706  1000380924  32.6246  -89.140620           1967         9.14400   \n",
       "1524772   330001761  45.0232   -0.590917           2004         1.16000   \n",
       "2435192   330003871  48.4552    1.897412           1991        22.94000   \n",
       "5078944  1000446667  34.1447 -117.266200           1943        29.47416   \n",
       "6013775  1000661143  40.1450 -100.418500           1978        47.24400   \n",
       "1789118   330002648  46.9261    2.217846           2003        22.76000   \n",
       "4670831  1000354590  32.0256 -110.960900           1969        28.54452   \n",
       "\n",
       "           Lat_y     Lon_y  IntegerYear_y  GroundwaterElevation_masl  \n",
       "5069947      NaN       NaN            NaN                        NaN  \n",
       "2058909  47.8995  1.573554         2009.0                    112.640  \n",
       "3683341      NaN       NaN            NaN                        NaN  \n",
       "4776706      NaN       NaN            NaN                        NaN  \n",
       "1524772  45.0232 -0.590917         2000.0                      2.910  \n",
       "2435192  48.4552  1.897412         1979.0                    132.800  \n",
       "5078944      NaN       NaN            NaN                        NaN  \n",
       "6013775      NaN       NaN            NaN                        NaN  \n",
       "1789118  46.9261  2.217846         2008.0                    143.165  \n",
       "4670831      NaN       NaN            NaN                        NaN  "
      ]
     },
     "execution_count": 31,
     "metadata": {},
     "output_type": "execute_result"
    }
   ],
   "source": [
    "merge_depth.sample(10)"
   ]
  },
  {
   "cell_type": "code",
   "execution_count": 34,
   "id": "fda77da8-d825-48f0-bb5b-e748aa163759",
   "metadata": {
    "tags": []
   },
   "outputs": [],
   "source": [
    "# merge_depth.IntegerYear_y.astype('int64')\n",
    "# merge_depth.dtypes"
   ]
  },
  {
   "cell_type": "code",
   "execution_count": 39,
   "id": "8d6e2d58-4648-47e7-8c1d-856b9c4dd707",
   "metadata": {
    "tags": []
   },
   "outputs": [],
   "source": [
    "merge_inner = pd.merge(depth, elev, how='inner', on=['StnID', 'IntegerYear'])"
   ]
  },
  {
   "cell_type": "code",
   "execution_count": 41,
   "id": "ba0370c5-4c6e-40c4-bcaa-384c389571b8",
   "metadata": {
    "tags": []
   },
   "outputs": [
    {
     "data": {
      "text/html": [
       "<div>\n",
       "<style scoped>\n",
       "    .dataframe tbody tr th:only-of-type {\n",
       "        vertical-align: middle;\n",
       "    }\n",
       "\n",
       "    .dataframe tbody tr th {\n",
       "        vertical-align: top;\n",
       "    }\n",
       "\n",
       "    .dataframe thead th {\n",
       "        text-align: right;\n",
       "    }\n",
       "</style>\n",
       "<table border=\"1\" class=\"dataframe\">\n",
       "  <thead>\n",
       "    <tr style=\"text-align: right;\">\n",
       "      <th></th>\n",
       "      <th>StnID</th>\n",
       "      <th>Lat_x</th>\n",
       "      <th>Lon_x</th>\n",
       "      <th>IntegerYear</th>\n",
       "      <th>DepthToWater_m</th>\n",
       "      <th>Lat_y</th>\n",
       "      <th>Lon_y</th>\n",
       "      <th>GroundwaterElevation_masl</th>\n",
       "    </tr>\n",
       "  </thead>\n",
       "  <tbody>\n",
       "    <tr>\n",
       "      <th>178</th>\n",
       "      <td>170000069</td>\n",
       "      <td>50.7102</td>\n",
       "      <td>5.883652</td>\n",
       "      <td>2014</td>\n",
       "      <td>35.010000</td>\n",
       "      <td>50.7102</td>\n",
       "      <td>5.883652</td>\n",
       "      <td>250.360000</td>\n",
       "    </tr>\n",
       "    <tr>\n",
       "      <th>26089</th>\n",
       "      <td>330000034</td>\n",
       "      <td>42.4421</td>\n",
       "      <td>9.519890</td>\n",
       "      <td>1996</td>\n",
       "      <td>3.780000</td>\n",
       "      <td>42.4421</td>\n",
       "      <td>9.519890</td>\n",
       "      <td>1.220000</td>\n",
       "    </tr>\n",
       "    <tr>\n",
       "      <th>41768</th>\n",
       "      <td>330001262</td>\n",
       "      <td>44.5847</td>\n",
       "      <td>-0.256177</td>\n",
       "      <td>1963</td>\n",
       "      <td>12.640000</td>\n",
       "      <td>44.5847</td>\n",
       "      <td>-0.256177</td>\n",
       "      <td>20.800000</td>\n",
       "    </tr>\n",
       "    <tr>\n",
       "      <th>41229</th>\n",
       "      <td>330001224</td>\n",
       "      <td>44.5296</td>\n",
       "      <td>-0.654254</td>\n",
       "      <td>1999</td>\n",
       "      <td>15.280000</td>\n",
       "      <td>44.5296</td>\n",
       "      <td>-0.654254</td>\n",
       "      <td>53.250000</td>\n",
       "    </tr>\n",
       "    <tr>\n",
       "      <th>101855</th>\n",
       "      <td>330005330</td>\n",
       "      <td>50.2779</td>\n",
       "      <td>2.296501</td>\n",
       "      <td>1982</td>\n",
       "      <td>2.800000</td>\n",
       "      <td>50.2779</td>\n",
       "      <td>2.296501</td>\n",
       "      <td>68.740000</td>\n",
       "    </tr>\n",
       "    <tr>\n",
       "      <th>36229</th>\n",
       "      <td>330000849</td>\n",
       "      <td>43.8777</td>\n",
       "      <td>4.514095</td>\n",
       "      <td>2016</td>\n",
       "      <td>2.865000</td>\n",
       "      <td>43.8777</td>\n",
       "      <td>4.514095</td>\n",
       "      <td>63.935000</td>\n",
       "    </tr>\n",
       "    <tr>\n",
       "      <th>46532</th>\n",
       "      <td>330001512</td>\n",
       "      <td>44.7522</td>\n",
       "      <td>-1.190325</td>\n",
       "      <td>2000</td>\n",
       "      <td>0.190000</td>\n",
       "      <td>44.7522</td>\n",
       "      <td>-1.190325</td>\n",
       "      <td>8.650000</td>\n",
       "    </tr>\n",
       "    <tr>\n",
       "      <th>60139</th>\n",
       "      <td>330002427</td>\n",
       "      <td>46.2450</td>\n",
       "      <td>-0.692400</td>\n",
       "      <td>1999</td>\n",
       "      <td>3.965000</td>\n",
       "      <td>46.2450</td>\n",
       "      <td>-0.692400</td>\n",
       "      <td>3.935000</td>\n",
       "    </tr>\n",
       "    <tr>\n",
       "      <th>121636</th>\n",
       "      <td>1030066250</td>\n",
       "      <td>37.7377</td>\n",
       "      <td>-122.197500</td>\n",
       "      <td>2009</td>\n",
       "      <td>1.499616</td>\n",
       "      <td>37.7377</td>\n",
       "      <td>-122.197500</td>\n",
       "      <td>2.673096</td>\n",
       "    </tr>\n",
       "    <tr>\n",
       "      <th>102855</th>\n",
       "      <td>330005384</td>\n",
       "      <td>50.3506</td>\n",
       "      <td>3.068658</td>\n",
       "      <td>1954</td>\n",
       "      <td>3.775000</td>\n",
       "      <td>50.3506</td>\n",
       "      <td>3.068658</td>\n",
       "      <td>22.395000</td>\n",
       "    </tr>\n",
       "  </tbody>\n",
       "</table>\n",
       "</div>"
      ],
      "text/plain": [
       "             StnID    Lat_x       Lon_x  IntegerYear  DepthToWater_m    Lat_y  \\\n",
       "178      170000069  50.7102    5.883652         2014       35.010000  50.7102   \n",
       "26089    330000034  42.4421    9.519890         1996        3.780000  42.4421   \n",
       "41768    330001262  44.5847   -0.256177         1963       12.640000  44.5847   \n",
       "41229    330001224  44.5296   -0.654254         1999       15.280000  44.5296   \n",
       "101855   330005330  50.2779    2.296501         1982        2.800000  50.2779   \n",
       "36229    330000849  43.8777    4.514095         2016        2.865000  43.8777   \n",
       "46532    330001512  44.7522   -1.190325         2000        0.190000  44.7522   \n",
       "60139    330002427  46.2450   -0.692400         1999        3.965000  46.2450   \n",
       "121636  1030066250  37.7377 -122.197500         2009        1.499616  37.7377   \n",
       "102855   330005384  50.3506    3.068658         1954        3.775000  50.3506   \n",
       "\n",
       "             Lon_y  GroundwaterElevation_masl  \n",
       "178       5.883652                 250.360000  \n",
       "26089     9.519890                   1.220000  \n",
       "41768    -0.256177                  20.800000  \n",
       "41229    -0.654254                  53.250000  \n",
       "101855    2.296501                  68.740000  \n",
       "36229     4.514095                  63.935000  \n",
       "46532    -1.190325                   8.650000  \n",
       "60139    -0.692400                   3.935000  \n",
       "121636 -122.197500                   2.673096  \n",
       "102855    3.068658                  22.395000  "
      ]
     },
     "execution_count": 41,
     "metadata": {},
     "output_type": "execute_result"
    }
   ],
   "source": [
    "merge_inner.sample(10)"
   ]
  },
  {
   "cell_type": "code",
   "execution_count": 42,
   "id": "358777b7-904e-456c-a25b-1750e1ce6713",
   "metadata": {
    "tags": []
   },
   "outputs": [
    {
     "name": "stdout",
     "output_type": "stream",
     "text": [
      "(4170802, 5)\n",
      "(190879, 5)\n",
      "(7610983, 9)\n",
      "(3664131, 9)\n",
      "(122187, 8)\n"
     ]
    }
   ],
   "source": [
    "print(depth.shape)\n",
    "print(elev.shape)\n",
    "print(merge_depth.shape)\n",
    "print(merge_elev.shape)\n",
    "print(merge_inner.shape)"
   ]
  },
  {
   "cell_type": "code",
   "execution_count": 43,
   "id": "92517df9-f54b-4d9b-ad52-fb08b3e32e72",
   "metadata": {
    "tags": []
   },
   "outputs": [],
   "source": [
    "merge_inner.drop(columns=['Lat_y', 'Lon_y'], inplace=True)"
   ]
  },
  {
   "cell_type": "code",
   "execution_count": 44,
   "id": "5fb88676-e846-4d36-9157-ea7c37642790",
   "metadata": {
    "tags": []
   },
   "outputs": [
    {
     "data": {
      "text/html": [
       "<div>\n",
       "<style scoped>\n",
       "    .dataframe tbody tr th:only-of-type {\n",
       "        vertical-align: middle;\n",
       "    }\n",
       "\n",
       "    .dataframe tbody tr th {\n",
       "        vertical-align: top;\n",
       "    }\n",
       "\n",
       "    .dataframe thead th {\n",
       "        text-align: right;\n",
       "    }\n",
       "</style>\n",
       "<table border=\"1\" class=\"dataframe\">\n",
       "  <thead>\n",
       "    <tr style=\"text-align: right;\">\n",
       "      <th></th>\n",
       "      <th>StnID</th>\n",
       "      <th>Lat_x</th>\n",
       "      <th>Lon_x</th>\n",
       "      <th>IntegerYear</th>\n",
       "      <th>DepthToWater_m</th>\n",
       "      <th>GroundwaterElevation_masl</th>\n",
       "    </tr>\n",
       "  </thead>\n",
       "  <tbody>\n",
       "    <tr>\n",
       "      <th>0</th>\n",
       "      <td>170000051</td>\n",
       "      <td>50.4975</td>\n",
       "      <td>4.457745</td>\n",
       "      <td>2011</td>\n",
       "      <td>3.920</td>\n",
       "      <td>127.350</td>\n",
       "    </tr>\n",
       "    <tr>\n",
       "      <th>1</th>\n",
       "      <td>170000051</td>\n",
       "      <td>50.4975</td>\n",
       "      <td>4.457745</td>\n",
       "      <td>2012</td>\n",
       "      <td>4.040</td>\n",
       "      <td>127.230</td>\n",
       "    </tr>\n",
       "    <tr>\n",
       "      <th>2</th>\n",
       "      <td>170000051</td>\n",
       "      <td>50.4975</td>\n",
       "      <td>4.457745</td>\n",
       "      <td>2013</td>\n",
       "      <td>3.800</td>\n",
       "      <td>127.470</td>\n",
       "    </tr>\n",
       "    <tr>\n",
       "      <th>3</th>\n",
       "      <td>170000051</td>\n",
       "      <td>50.4975</td>\n",
       "      <td>4.457745</td>\n",
       "      <td>2014</td>\n",
       "      <td>3.720</td>\n",
       "      <td>127.550</td>\n",
       "    </tr>\n",
       "    <tr>\n",
       "      <th>4</th>\n",
       "      <td>170000051</td>\n",
       "      <td>50.4975</td>\n",
       "      <td>4.457745</td>\n",
       "      <td>2015</td>\n",
       "      <td>3.275</td>\n",
       "      <td>127.995</td>\n",
       "    </tr>\n",
       "  </tbody>\n",
       "</table>\n",
       "</div>"
      ],
      "text/plain": [
       "       StnID    Lat_x     Lon_x  IntegerYear  DepthToWater_m  \\\n",
       "0  170000051  50.4975  4.457745         2011           3.920   \n",
       "1  170000051  50.4975  4.457745         2012           4.040   \n",
       "2  170000051  50.4975  4.457745         2013           3.800   \n",
       "3  170000051  50.4975  4.457745         2014           3.720   \n",
       "4  170000051  50.4975  4.457745         2015           3.275   \n",
       "\n",
       "   GroundwaterElevation_masl  \n",
       "0                    127.350  \n",
       "1                    127.230  \n",
       "2                    127.470  \n",
       "3                    127.550  \n",
       "4                    127.995  "
      ]
     },
     "execution_count": 44,
     "metadata": {},
     "output_type": "execute_result"
    }
   ],
   "source": [
    "merge_inner.head()"
   ]
  },
  {
   "cell_type": "code",
   "execution_count": null,
   "id": "2c9e2295-24dc-436c-9066-a4767e9e5966",
   "metadata": {},
   "outputs": [],
   "source": [
    "merge_inner.to_csv('./Team2/Da'data')"
   ]
  }
 ],
 "metadata": {
  "kernelspec": {
   "display_name": "Python 3 (ipykernel)",
   "language": "python",
   "name": "python3"
  },
  "language_info": {
   "codemirror_mode": {
    "name": "ipython",
    "version": 3
   },
   "file_extension": ".py",
   "mimetype": "text/x-python",
   "name": "python",
   "nbconvert_exporter": "python",
   "pygments_lexer": "ipython3",
   "version": "3.11.5"
  }
 },
 "nbformat": 4,
 "nbformat_minor": 5
}
